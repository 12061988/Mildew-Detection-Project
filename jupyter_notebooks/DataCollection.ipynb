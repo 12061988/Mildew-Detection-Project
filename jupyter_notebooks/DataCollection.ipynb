{
 "cells": [
  {
   "cell_type": "code",
   "execution_count": 1,
   "metadata": {
    "id": "7AR_SEgkmYDC"
   },
   "outputs": [],
   "source": [
    "import os\n",
    "from pathlib import Path\n",
    "\n",
    "import numpy\n",
    "import pandas as pd\n",
    "from matplotlib.image import imread"
   ]
  },
  {
   "cell_type": "markdown",
   "metadata": {},
   "source": [
    "- Select root directory"
   ]
  },
  {
   "cell_type": "code",
   "execution_count": 2,
   "metadata": {},
   "outputs": [
    {
     "name": "stdout",
     "output_type": "stream",
     "text": [
      "/workspace/Mildew-Detection-Project/\n"
     ]
    }
   ],
   "source": [
    "root_directory = str(Path(os.getcwd()).parent)+\"/\"\n",
    "print(root_directory)"
   ]
  },
  {
   "cell_type": "code",
   "execution_count": 3,
   "metadata": {},
   "outputs": [],
   "source": [
    "current_working_directory = os.getcwd()\n",
    "os.chdir(root_directory)"
   ]
  },
  {
   "cell_type": "code",
   "execution_count": 8,
   "metadata": {},
   "outputs": [
    {
     "name": "stdout",
     "output_type": "stream",
     "text": [
      "Collecting kaggle\n",
      "  Downloading kaggle-1.5.12.tar.gz (58 kB)\n",
      "\u001b[2K     \u001b[90m━━━━━━━━━━━━━━━━━━━━━━━━━━━━━━━━━━━━━━━━\u001b[0m \u001b[32m59.0/59.0 kB\u001b[0m \u001b[31m6.2 MB/s\u001b[0m eta \u001b[36m0:00:00\u001b[0m\n",
      "\u001b[?25h  Preparing metadata (setup.py) ... \u001b[?25ldone\n",
      "\u001b[?25hRequirement already satisfied: six>=1.10 in /workspace/.pip-modules/lib/python3.8/site-packages (from kaggle) (1.15.0)\n",
      "Requirement already satisfied: certifi in /home/gitpod/.pyenv/versions/3.8.12/lib/python3.8/site-packages (from kaggle) (2022.12.7)\n",
      "Requirement already satisfied: python-dateutil in /home/gitpod/.pyenv/versions/3.8.12/lib/python3.8/site-packages (from kaggle) (2.8.2)\n",
      "Requirement already satisfied: requests in /home/gitpod/.pyenv/versions/3.8.12/lib/python3.8/site-packages (from kaggle) (2.28.1)\n",
      "Collecting tqdm\n",
      "  Downloading tqdm-4.64.1-py2.py3-none-any.whl (78 kB)\n",
      "\u001b[2K     \u001b[90m━━━━━━━━━━━━━━━━━━━━━━━━━━━━━━━━━━━━━━━━\u001b[0m \u001b[32m78.5/78.5 kB\u001b[0m \u001b[31m12.7 MB/s\u001b[0m eta \u001b[36m0:00:00\u001b[0m\n",
      "\u001b[?25hCollecting python-slugify\n",
      "  Downloading python_slugify-7.0.0-py2.py3-none-any.whl (9.4 kB)\n",
      "Requirement already satisfied: urllib3 in /home/gitpod/.pyenv/versions/3.8.12/lib/python3.8/site-packages (from kaggle) (1.26.13)\n",
      "Collecting text-unidecode>=1.3\n",
      "  Downloading text_unidecode-1.3-py2.py3-none-any.whl (78 kB)\n",
      "\u001b[2K     \u001b[90m━━━━━━━━━━━━━━━━━━━━━━━━━━━━━━━━━━━━━━━━\u001b[0m \u001b[32m78.2/78.2 kB\u001b[0m \u001b[31m19.5 MB/s\u001b[0m eta \u001b[36m0:00:00\u001b[0m\n",
      "\u001b[?25hRequirement already satisfied: charset-normalizer<3,>=2 in /home/gitpod/.pyenv/versions/3.8.12/lib/python3.8/site-packages (from requests->kaggle) (2.1.1)\n",
      "Requirement already satisfied: idna<4,>=2.5 in /home/gitpod/.pyenv/versions/3.8.12/lib/python3.8/site-packages (from requests->kaggle) (3.4)\n",
      "Building wheels for collected packages: kaggle\n",
      "  Building wheel for kaggle (setup.py) ... \u001b[?25ldone\n",
      "\u001b[?25h  Created wheel for kaggle: filename=kaggle-1.5.12-py3-none-any.whl size=73031 sha256=b60723ee6ec53f61bfb82a74f2467957822fc5d1ca47b530187bc2ce3aaeda72\n",
      "  Stored in directory: /home/gitpod/.cache/pip/wheels/03/f3/c7/fc5a63bb33d22177609b06c5b4c714b5eb3f1b195ce9dc5e47\n",
      "Successfully built kaggle\n",
      "Installing collected packages: text-unidecode, tqdm, python-slugify, kaggle\n",
      "Successfully installed kaggle-1.5.12 python-slugify-7.0.0 text-unidecode-1.3 tqdm-4.64.1\n"
     ]
    }
   ],
   "source": [
    "# install kaggle package\n",
    "! pip install kaggle"
   ]
  },
  {
   "cell_type": "code",
   "execution_count": 4,
   "metadata": {},
   "outputs": [],
   "source": [
    "# Setting the kaggle configuration directory to the current working directory\n",
    "\n",
    "os.environ[\"KAGGLE_CONFIG_DIR\"] = root_directory\n",
    "! chmod 600 kaggle.json"
   ]
  },
  {
   "cell_type": "code",
   "execution_count": 5,
   "metadata": {},
   "outputs": [],
   "source": [
    "os.chdir(current_working_directory)"
   ]
  },
  {
   "cell_type": "code",
   "execution_count": 14,
   "metadata": {},
   "outputs": [
    {
     "name": "stdout",
     "output_type": "stream",
     "text": [
      "Downloading cherry-leaves.zip to /workspace/Mildew-Detection-Project/inputs/cherry-leaves-datasets\n",
      " 95%|███████████████████████████████████▉  | 52.0M/55.0M [00:02<00:00, 30.3MB/s]\n",
      "100%|██████████████████████████████████████| 55.0M/55.0M [00:02<00:00, 24.6MB/s]\n"
     ]
    }
   ],
   "source": [
    "# kaggle dataset and download\n",
    "\n",
    "KaggleDatasetPath = \"codeinstitute/cherry-leaves\"\n",
    "DestinationFolder = f\"{root_directory}inputs/cherry-leaves-datasets\"\n",
    "! kaggle datasets download -d {KaggleDatasetPath} -p {DestinationFolder}"
   ]
  },
  {
   "cell_type": "code",
   "execution_count": 16,
   "metadata": {},
   "outputs": [
    {
     "name": "stdout",
     "output_type": "stream",
     "text": [
      "Archive:  /workspace/Mildew-Detection-Project/inputs/cherry-leaves-datasets/cherry-leaves.zip\n",
      "replace /workspace/Mildew-Detection-Project/inputs/cherry-leaves-datasets/cherry-leaves/healthy/0008f3d3-2f85-4973-be9a-1b520b8b59fc___JR_HL 4092.JPG? [y]es, [n]o, [A]ll, [N]one, [r]ename: ^C\n"
     ]
    }
   ],
   "source": [
    "# unziping data\n",
    "\n",
    "! unzip {DestinationFolder}/*.zip -d {DestinationFolder} \\\n",
    "    && rm {DestinationFolder}/*.zip"
   ]
  },
  {
   "attachments": {},
   "cell_type": "markdown",
   "metadata": {},
   "source": [
    "# Data preparation"
   ]
  },
  {
   "cell_type": "markdown",
   "metadata": {},
   "source": [
    "## Data cleaning\n",
    "* check and remove non image files"
   ]
  },
  {
   "cell_type": "code",
   "execution_count": 17,
   "metadata": {},
   "outputs": [],
   "source": [
    "def remove_non_image_file(my_data_dir):\n",
    "    image_extension = ('.png', '.jpg', '.jpeg')\n",
    "    folders = os.listdir(my_data_dir)\n",
    "    for folder in folders:\n",
    "        files = os.listdir(my_data_dir + folder)\n",
    "\n",
    "\n",
    "            # print files\n",
    "        i = []\n",
    "        j = []\n",
    "        for given_file in files:\n",
    "            if not given_file.lower().endswith(image_extension):\n",
    "                file_location = my_data_dir + '/' + given_file\n",
    "                os.remove(file_location) # removes non image files\n",
    "                i.append(1)\n",
    "            else:\n",
    "                j.append(1)\n",
    "                pass\n",
    "        print(f\"Folder: {folder} - has image file\", len(j))\n",
    "        print(f\"Folder: {folder} - has non-image file\", len(i))"
   ]
  },
  {
   "cell_type": "code",
   "execution_count": 19,
   "metadata": {},
   "outputs": [
    {
     "name": "stdout",
     "output_type": "stream",
     "text": [
      "Folder: healthy - has image file 2104\n",
      "Folder: healthy - has non-image file 0\n",
      "Folder: powdery_mildew - has image file 2104\n",
      "Folder: powdery_mildew - has non-image file 0\n"
     ]
    }
   ],
   "source": [
    "remove_non_image_file(my_data_dir=f'{root_directory}inputs/cherry-leaves-datasets/cherry-leaves/')"
   ]
  },
  {
   "cell_type": "markdown",
   "metadata": {},
   "source": [
    "- images directory"
   ]
  },
  {
   "cell_type": "code",
   "execution_count": 20,
   "metadata": {},
   "outputs": [
    {
     "name": "stdout",
     "output_type": "stream",
     "text": [
      "/workspace/Mildew-Detection-Project/inputs/cherry-leaves-datasets/cherry-leaves/healthy/\n",
      "/workspace/Mildew-Detection-Project/inputs/cherry-leaves-datasets/cherry-leaves/powdery_mildew/\n"
     ]
    }
   ],
   "source": [
    "images_directory = f\"\"\"{root_directory}inputs/cherry-leaves-datasets/cherry-leaves/\"\"\"\n",
    "healthy_image_directory = f\"\"\"{images_directory}healthy/\"\"\"\n",
    "non_healthy_image_directory = f\"\"\"{images_directory}powdery_mildew/\"\"\"\n",
    "\n",
    "print(healthy_image_directory)\n",
    "print(non_healthy_image_directory)"
   ]
  },
  {
   "cell_type": "markdown",
   "metadata": {},
   "source": [
    "- enable dataset directories"
   ]
  },
  {
   "cell_type": "code",
   "execution_count": 21,
   "metadata": {},
   "outputs": [
    {
     "name": "stdout",
     "output_type": "stream",
     "text": [
      "/workspace/Mildew-Detection-Project/model/data_train/\n",
      "/workspace/Mildew-Detection-Project/model/data_test/\n",
      "/workspace/Mildew-Detection-Project/model/data_validation/\n"
     ]
    }
   ],
   "source": [
    "train_directory = f\"\"\"{root_directory}model/data_train/\"\"\"\n",
    "test_directory = f\"\"\"{root_directory}model/data_test/\"\"\"\n",
    "val_directory = f\"\"\"{root_directory}model/data_validation/\"\"\"\n",
    "\n",
    "for _dir in [train_directory, test_directory, val_directory]:\n",
    "    print(_dir)"
   ]
  },
  {
   "cell_type": "markdown",
   "metadata": {},
   "source": [
    "- Add image labels > healthy vs powdery_mildew"
   ]
  },
  {
   "cell_type": "code",
   "execution_count": 22,
   "metadata": {},
   "outputs": [],
   "source": [
    "healthy_class = os.listdir(healthy_image_directory)\n",
    "non_healthy_class = os.listdir(non_healthy_image_directory)\n",
    "images_dataframe = pd.DataFrame(\n",
    "    [{\"filename\": filename, \"output\": 1} for filename in healthy_class]\n",
    "    + [{\"filename\": filename, \"output\": 0} for filename in non_healthy_class]\n",
    ")"
   ]
  },
  {
   "cell_type": "code",
   "execution_count": 23,
   "metadata": {},
   "outputs": [
    {
     "data": {
      "text/html": [
       "<div>\n",
       "<style scoped>\n",
       "    .dataframe tbody tr th:only-of-type {\n",
       "        vertical-align: middle;\n",
       "    }\n",
       "\n",
       "    .dataframe tbody tr th {\n",
       "        vertical-align: top;\n",
       "    }\n",
       "\n",
       "    .dataframe thead th {\n",
       "        text-align: right;\n",
       "    }\n",
       "</style>\n",
       "<table border=\"1\" class=\"dataframe\">\n",
       "  <thead>\n",
       "    <tr style=\"text-align: right;\">\n",
       "      <th></th>\n",
       "      <th>filename</th>\n",
       "      <th>output</th>\n",
       "    </tr>\n",
       "  </thead>\n",
       "  <tbody>\n",
       "    <tr>\n",
       "      <th>0</th>\n",
       "      <td>0008f3d3-2f85-4973-be9a-1b520b8b59fc___JR_HL 4...</td>\n",
       "      <td>1</td>\n",
       "    </tr>\n",
       "    <tr>\n",
       "      <th>1</th>\n",
       "      <td>0008f3d3-2f85-4973-be9a-1b520b8b59fc___JR_HL 4...</td>\n",
       "      <td>1</td>\n",
       "    </tr>\n",
       "    <tr>\n",
       "      <th>2</th>\n",
       "      <td>0008f3d3-2f85-4973-be9a-1b520b8b59fc___JR_HL 4...</td>\n",
       "      <td>1</td>\n",
       "    </tr>\n",
       "    <tr>\n",
       "      <th>3</th>\n",
       "      <td>002efba9-09b3-43de-93b7-5c2460185cde___JR_HL 9...</td>\n",
       "      <td>1</td>\n",
       "    </tr>\n",
       "    <tr>\n",
       "      <th>4</th>\n",
       "      <td>0048afb8-b950-4c57-9e72-7e26282327ee___JR_HL 9...</td>\n",
       "      <td>1</td>\n",
       "    </tr>\n",
       "    <tr>\n",
       "      <th>...</th>\n",
       "      <td>...</td>\n",
       "      <td>...</td>\n",
       "    </tr>\n",
       "    <tr>\n",
       "      <th>4203</th>\n",
       "      <td>ffdeb404-b84d-4389-9cc9-e1d3159374fe___FREC_Pw...</td>\n",
       "      <td>0</td>\n",
       "    </tr>\n",
       "    <tr>\n",
       "      <th>4204</th>\n",
       "      <td>fff3ae4b-4bce-4b7a-b53c-98c482d9d8fd___FREC_Pw...</td>\n",
       "      <td>0</td>\n",
       "    </tr>\n",
       "    <tr>\n",
       "      <th>4205</th>\n",
       "      <td>fff3ae4b-4bce-4b7a-b53c-98c482d9d8fd___FREC_Pw...</td>\n",
       "      <td>0</td>\n",
       "    </tr>\n",
       "    <tr>\n",
       "      <th>4206</th>\n",
       "      <td>fffc6a5c-66f3-4d73-afd2-84862fb83c4f___FREC_Pw...</td>\n",
       "      <td>0</td>\n",
       "    </tr>\n",
       "    <tr>\n",
       "      <th>4207</th>\n",
       "      <td>fffc6a5c-66f3-4d73-afd2-84862fb83c4f___FREC_Pw...</td>\n",
       "      <td>0</td>\n",
       "    </tr>\n",
       "  </tbody>\n",
       "</table>\n",
       "<p>4208 rows × 2 columns</p>\n",
       "</div>"
      ],
      "text/plain": [
       "                                               filename  output\n",
       "0     0008f3d3-2f85-4973-be9a-1b520b8b59fc___JR_HL 4...       1\n",
       "1     0008f3d3-2f85-4973-be9a-1b520b8b59fc___JR_HL 4...       1\n",
       "2     0008f3d3-2f85-4973-be9a-1b520b8b59fc___JR_HL 4...       1\n",
       "3     002efba9-09b3-43de-93b7-5c2460185cde___JR_HL 9...       1\n",
       "4     0048afb8-b950-4c57-9e72-7e26282327ee___JR_HL 9...       1\n",
       "...                                                 ...     ...\n",
       "4203  ffdeb404-b84d-4389-9cc9-e1d3159374fe___FREC_Pw...       0\n",
       "4204  fff3ae4b-4bce-4b7a-b53c-98c482d9d8fd___FREC_Pw...       0\n",
       "4205  fff3ae4b-4bce-4b7a-b53c-98c482d9d8fd___FREC_Pw...       0\n",
       "4206  fffc6a5c-66f3-4d73-afd2-84862fb83c4f___FREC_Pw...       0\n",
       "4207  fffc6a5c-66f3-4d73-afd2-84862fb83c4f___FREC_Pw...       0\n",
       "\n",
       "[4208 rows x 2 columns]"
      ]
     },
     "execution_count": 23,
     "metadata": {},
     "output_type": "execute_result"
    }
   ],
   "source": [
    "images_dataframe"
   ]
  },
  {
   "cell_type": "code",
   "execution_count": 21,
   "metadata": {},
   "outputs": [],
   "source": [
    "def evaluate_image_average_size(row):\n",
    "    if row.output == 1:\n",
    "        img = imread(f\"{healthy_image_directory}{row.filename}\")\n",
    "    else:\n",
    "        img = imread(f\"{non_healthy_image_directory}{row.filename}\")\n",
    "\n",
    "    height, width, _ = img.shape\n",
    "\n",
    "    row[\"height\"] = height\n",
    "    row[\"width\"] = width\n",
    "    # row['colors'] = colors\n",
    "\n",
    "    return row\n",
    "\n",
    "\n",
    "images_dataframe = images_dataframe.apply(\n",
    "    lambda row: evaluate_image_average_size(row), axis=1\n",
    ")"
   ]
  },
  {
   "cell_type": "code",
   "execution_count": 22,
   "metadata": {},
   "outputs": [
    {
     "data": {
      "text/html": [
       "<div>\n",
       "<style scoped>\n",
       "    .dataframe tbody tr th:only-of-type {\n",
       "        vertical-align: middle;\n",
       "    }\n",
       "\n",
       "    .dataframe tbody tr th {\n",
       "        vertical-align: top;\n",
       "    }\n",
       "\n",
       "    .dataframe thead th {\n",
       "        text-align: right;\n",
       "    }\n",
       "</style>\n",
       "<table border=\"1\" class=\"dataframe\">\n",
       "  <thead>\n",
       "    <tr style=\"text-align: right;\">\n",
       "      <th></th>\n",
       "      <th>filename</th>\n",
       "      <th>output</th>\n",
       "      <th>height</th>\n",
       "      <th>width</th>\n",
       "    </tr>\n",
       "  </thead>\n",
       "  <tbody>\n",
       "    <tr>\n",
       "      <th>0</th>\n",
       "      <td>0008f3d3-2f85-4973-be9a-1b520b8b59fc___JR_HL 4...</td>\n",
       "      <td>1</td>\n",
       "      <td>256</td>\n",
       "      <td>256</td>\n",
       "    </tr>\n",
       "    <tr>\n",
       "      <th>1</th>\n",
       "      <td>0008f3d3-2f85-4973-be9a-1b520b8b59fc___JR_HL 4...</td>\n",
       "      <td>1</td>\n",
       "      <td>256</td>\n",
       "      <td>256</td>\n",
       "    </tr>\n",
       "    <tr>\n",
       "      <th>2</th>\n",
       "      <td>0008f3d3-2f85-4973-be9a-1b520b8b59fc___JR_HL 4...</td>\n",
       "      <td>1</td>\n",
       "      <td>256</td>\n",
       "      <td>256</td>\n",
       "    </tr>\n",
       "    <tr>\n",
       "      <th>3</th>\n",
       "      <td>002efba9-09b3-43de-93b7-5c2460185cde___JR_HL 9...</td>\n",
       "      <td>1</td>\n",
       "      <td>256</td>\n",
       "      <td>256</td>\n",
       "    </tr>\n",
       "    <tr>\n",
       "      <th>4</th>\n",
       "      <td>0048afb8-b950-4c57-9e72-7e26282327ee___JR_HL 9...</td>\n",
       "      <td>1</td>\n",
       "      <td>256</td>\n",
       "      <td>256</td>\n",
       "    </tr>\n",
       "    <tr>\n",
       "      <th>5</th>\n",
       "      <td>0048afb8-b950-4c57-9e72-7e26282327ee___JR_HL 9...</td>\n",
       "      <td>1</td>\n",
       "      <td>256</td>\n",
       "      <td>256</td>\n",
       "    </tr>\n",
       "    <tr>\n",
       "      <th>6</th>\n",
       "      <td>0048afb8-b950-4c57-9e72-7e26282327ee___JR_HL 9...</td>\n",
       "      <td>1</td>\n",
       "      <td>256</td>\n",
       "      <td>256</td>\n",
       "    </tr>\n",
       "    <tr>\n",
       "      <th>7</th>\n",
       "      <td>005f183c-0a73-4738-91f7-c0a0e02cd9e3___JR_HL 9...</td>\n",
       "      <td>1</td>\n",
       "      <td>256</td>\n",
       "      <td>256</td>\n",
       "    </tr>\n",
       "    <tr>\n",
       "      <th>8</th>\n",
       "      <td>0086a8c7-1440-423e-939d-d0567b1fc4e4___JR_HL 4...</td>\n",
       "      <td>1</td>\n",
       "      <td>256</td>\n",
       "      <td>256</td>\n",
       "    </tr>\n",
       "    <tr>\n",
       "      <th>9</th>\n",
       "      <td>0086a8c7-1440-423e-939d-d0567b1fc4e4___JR_HL 4...</td>\n",
       "      <td>1</td>\n",
       "      <td>256</td>\n",
       "      <td>256</td>\n",
       "    </tr>\n",
       "  </tbody>\n",
       "</table>\n",
       "</div>"
      ],
      "text/plain": [
       "                                            filename  output  height  width\n",
       "0  0008f3d3-2f85-4973-be9a-1b520b8b59fc___JR_HL 4...       1     256    256\n",
       "1  0008f3d3-2f85-4973-be9a-1b520b8b59fc___JR_HL 4...       1     256    256\n",
       "2  0008f3d3-2f85-4973-be9a-1b520b8b59fc___JR_HL 4...       1     256    256\n",
       "3  002efba9-09b3-43de-93b7-5c2460185cde___JR_HL 9...       1     256    256\n",
       "4  0048afb8-b950-4c57-9e72-7e26282327ee___JR_HL 9...       1     256    256\n",
       "5  0048afb8-b950-4c57-9e72-7e26282327ee___JR_HL 9...       1     256    256\n",
       "6  0048afb8-b950-4c57-9e72-7e26282327ee___JR_HL 9...       1     256    256\n",
       "7  005f183c-0a73-4738-91f7-c0a0e02cd9e3___JR_HL 9...       1     256    256\n",
       "8  0086a8c7-1440-423e-939d-d0567b1fc4e4___JR_HL 4...       1     256    256\n",
       "9  0086a8c7-1440-423e-939d-d0567b1fc4e4___JR_HL 4...       1     256    256"
      ]
     },
     "execution_count": 22,
     "metadata": {},
     "output_type": "execute_result"
    }
   ],
   "source": [
    "images_dataframe.head(10)"
   ]
  },
  {
   "cell_type": "code",
   "execution_count": 23,
   "metadata": {},
   "outputs": [
    {
     "data": {
      "text/plain": [
       "count    4208.0\n",
       "mean      256.0\n",
       "std         0.0\n",
       "min       256.0\n",
       "25%       256.0\n",
       "50%       256.0\n",
       "75%       256.0\n",
       "max       256.0\n",
       "Name: height, dtype: float64"
      ]
     },
     "execution_count": 23,
     "metadata": {},
     "output_type": "execute_result"
    }
   ],
   "source": [
    "images_dataframe[\"height\"].describe()"
   ]
  },
  {
   "cell_type": "code",
   "execution_count": 24,
   "metadata": {},
   "outputs": [
    {
     "data": {
      "text/plain": [
       "count    4208.0\n",
       "mean      256.0\n",
       "std         0.0\n",
       "min       256.0\n",
       "25%       256.0\n",
       "50%       256.0\n",
       "75%       256.0\n",
       "max       256.0\n",
       "Name: width, dtype: float64"
      ]
     },
     "execution_count": 24,
     "metadata": {},
     "output_type": "execute_result"
    }
   ],
   "source": [
    "images_dataframe[\"width\"].describe()"
   ]
  },
  {
   "cell_type": "markdown",
   "metadata": {
    "id": "Zo5HyvEZgUZC"
   },
   "source": [
    "## Split train validation test set"
   ]
  },
  {
   "cell_type": "code",
   "execution_count": 26,
   "metadata": {
    "id": "Qoz1ZU_EgKDu"
   },
   "outputs": [],
   "source": [
    "import os\n",
    "import random\n",
    "import shutil\n",
    "\n",
    "import joblib\n",
    "\n",
    "\n",
    "def split_train_validation_test_images(\n",
    "    train_dir,\n",
    "    val_dir,\n",
    "    test_dir,\n",
    "    images_directory,\n",
    "    train_set_ratio,\n",
    "    validation_set_ratio,\n",
    "    test_set_ratio,\n",
    "):\n",
    "\n",
    "    if train_set_ratio + validation_set_ratio + test_set_ratio != 1.0:\n",
    "        print(\"train_set_ratio + validation_set_ratio + test_set_ratio should sum 1.0\")\n",
    "        return\n",
    "\n",
    "    # gets classes labels\n",
    "    labels_dictionary = {\"healthy\": 1, \"powdery_mildew\": 0}\n",
    "\n",
    "    labels = list(labels_dictionary.keys())\n",
    "\n",
    "    for label in labels:\n",
    "\n",
    "        files = os.listdir(images_directory + label)\n",
    "        random.Random(12345).shuffle(files)\n",
    "\n",
    "        train_set_files_qty = int(len(files) * train_set_ratio)\n",
    "        validation_set_files_qty = int(len(files) * validation_set_ratio)\n",
    "\n",
    "        count = 1\n",
    "        for file_name in files:\n",
    "            if count <= train_set_files_qty:\n",
    "                # move given file to train set\n",
    "                shutil.copy(\n",
    "                    images_directory + label + \"/\" + file_name,\n",
    "                    train_dir + label + \"/\" + file_name,\n",
    "                )\n",
    "\n",
    "            elif count <= (train_set_files_qty + validation_set_files_qty):\n",
    "                # move given file to validation set\n",
    "                shutil.copy(\n",
    "                    images_directory + label + \"/\" + file_name,\n",
    "                    val_dir + label + \"/\" + file_name,\n",
    "                )\n",
    "\n",
    "            else:\n",
    "                # move given file to test set\n",
    "                shutil.copy(\n",
    "                    images_directory + label + \"/\" + file_name,\n",
    "                    test_dir + label + \"/\" + file_name,\n",
    "                )\n",
    "\n",
    "            count += 1"
   ]
  },
  {
   "cell_type": "markdown",
   "metadata": {
    "id": "74_6OZMWgYIP"
   },
   "source": [
    "Conventionally,\n",
    "* The training set is divided into 0.70 ratio of data.\n",
    "* The validation set is divided into 0.10 ratio of data.\n",
    "* The test set is divided into 0.20 ratio of data."
   ]
  },
  {
   "cell_type": "code",
   "execution_count": 28,
   "metadata": {
    "id": "24e-HbOdgYO1"
   },
   "outputs": [],
   "source": [
    "split_train_validation_test_images(\n",
    "    images_directory=images_directory,\n",
    "    train_dir=train_directory,\n",
    "    val_dir=val_directory,\n",
    "    test_dir=test_directory,\n",
    "    train_set_ratio=0.7,\n",
    "    validation_set_ratio=0.1,\n",
    "    test_set_ratio=0.2,\n",
    ")"
   ]
  },
  {
   "cell_type": "markdown",
   "metadata": {
    "id": "ctcuyZrmhKYo"
   },
   "source": [
    "---"
   ]
  },
  {
   "cell_type": "markdown",
   "metadata": {
    "id": "_tdAGw4Zwssu"
   },
   "source": [
    "---"
   ]
  }
 ],
 "metadata": {
  "accelerator": "GPU",
  "colab": {
   "name": "01 - DataCollection.ipynb",
   "provenance": []
  },
  "kernelspec": {
   "display_name": "Python 3.8.12 64-bit ('3.8.12')",
   "language": "python",
   "name": "python3"
  },
  "language_info": {
   "codemirror_mode": {
    "name": "ipython",
    "version": 3
   },
   "file_extension": ".py",
   "mimetype": "text/x-python",
   "name": "python",
   "nbconvert_exporter": "python",
   "pygments_lexer": "ipython3",
   "version": "3.8.12"
  },
  "vscode": {
   "interpreter": {
    "hash": "8b8334dab9339717f727a1deaf837b322d7a41c20d15cc86be99a8e69ceec8ce"
   }
  }
 },
 "nbformat": 4,
 "nbformat_minor": 4
}
